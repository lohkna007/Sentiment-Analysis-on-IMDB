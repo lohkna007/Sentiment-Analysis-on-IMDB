{
 "cells": [
  {
   "cell_type": "markdown",
   "id": "6d662ba6",
   "metadata": {},
   "source": [
    "# Importing Tools and Libraries"
   ]
  },
  {
   "cell_type": "code",
   "execution_count": 1,
   "id": "93f2298b",
   "metadata": {},
   "outputs": [],
   "source": [
    "import pandas as pd\n",
    "import numpy as np\n",
    "import matplotlib.pyplot as plt\n",
    "import seaborn as sns\n",
    "%matplotlib inline\n",
    "import warnings\n",
    "warnings.filterwarnings(\"ignore\")\n",
    "import pickle\n"
   ]
  },
  {
   "cell_type": "markdown",
   "id": "41a0289a",
   "metadata": {},
   "source": [
    "# Importing Data"
   ]
  },
  {
   "cell_type": "code",
   "execution_count": 2,
   "id": "1cd5e540",
   "metadata": {},
   "outputs": [
    {
     "data": {
      "text/html": [
       "<div>\n",
       "<style scoped>\n",
       "    .dataframe tbody tr th:only-of-type {\n",
       "        vertical-align: middle;\n",
       "    }\n",
       "\n",
       "    .dataframe tbody tr th {\n",
       "        vertical-align: top;\n",
       "    }\n",
       "\n",
       "    .dataframe thead th {\n",
       "        text-align: right;\n",
       "    }\n",
       "</style>\n",
       "<table border=\"1\" class=\"dataframe\">\n",
       "  <thead>\n",
       "    <tr style=\"text-align: right;\">\n",
       "      <th></th>\n",
       "      <th>review</th>\n",
       "      <th>sentiment</th>\n",
       "    </tr>\n",
       "  </thead>\n",
       "  <tbody>\n",
       "    <tr>\n",
       "      <th>0</th>\n",
       "      <td>One of the other reviewers has mentioned that ...</td>\n",
       "      <td>positive</td>\n",
       "    </tr>\n",
       "    <tr>\n",
       "      <th>1</th>\n",
       "      <td>A wonderful little production. &lt;br /&gt;&lt;br /&gt;The...</td>\n",
       "      <td>positive</td>\n",
       "    </tr>\n",
       "    <tr>\n",
       "      <th>2</th>\n",
       "      <td>I thought this was a wonderful way to spend ti...</td>\n",
       "      <td>positive</td>\n",
       "    </tr>\n",
       "    <tr>\n",
       "      <th>3</th>\n",
       "      <td>Basically there's a family where a little boy ...</td>\n",
       "      <td>negative</td>\n",
       "    </tr>\n",
       "    <tr>\n",
       "      <th>4</th>\n",
       "      <td>Petter Mattei's \"Love in the Time of Money\" is...</td>\n",
       "      <td>positive</td>\n",
       "    </tr>\n",
       "    <tr>\n",
       "      <th>...</th>\n",
       "      <td>...</td>\n",
       "      <td>...</td>\n",
       "    </tr>\n",
       "    <tr>\n",
       "      <th>49995</th>\n",
       "      <td>I thought this movie did a down right good job...</td>\n",
       "      <td>positive</td>\n",
       "    </tr>\n",
       "    <tr>\n",
       "      <th>49996</th>\n",
       "      <td>Bad plot, bad dialogue, bad acting, idiotic di...</td>\n",
       "      <td>negative</td>\n",
       "    </tr>\n",
       "    <tr>\n",
       "      <th>49997</th>\n",
       "      <td>I am a Catholic taught in parochial elementary...</td>\n",
       "      <td>negative</td>\n",
       "    </tr>\n",
       "    <tr>\n",
       "      <th>49998</th>\n",
       "      <td>I'm going to have to disagree with the previou...</td>\n",
       "      <td>negative</td>\n",
       "    </tr>\n",
       "    <tr>\n",
       "      <th>49999</th>\n",
       "      <td>No one expects the Star Trek movies to be high...</td>\n",
       "      <td>negative</td>\n",
       "    </tr>\n",
       "  </tbody>\n",
       "</table>\n",
       "<p>50000 rows × 2 columns</p>\n",
       "</div>"
      ],
      "text/plain": [
       "                                                  review sentiment\n",
       "0      One of the other reviewers has mentioned that ...  positive\n",
       "1      A wonderful little production. <br /><br />The...  positive\n",
       "2      I thought this was a wonderful way to spend ti...  positive\n",
       "3      Basically there's a family where a little boy ...  negative\n",
       "4      Petter Mattei's \"Love in the Time of Money\" is...  positive\n",
       "...                                                  ...       ...\n",
       "49995  I thought this movie did a down right good job...  positive\n",
       "49996  Bad plot, bad dialogue, bad acting, idiotic di...  negative\n",
       "49997  I am a Catholic taught in parochial elementary...  negative\n",
       "49998  I'm going to have to disagree with the previou...  negative\n",
       "49999  No one expects the Star Trek movies to be high...  negative\n",
       "\n",
       "[50000 rows x 2 columns]"
      ]
     },
     "execution_count": 2,
     "metadata": {},
     "output_type": "execute_result"
    }
   ],
   "source": [
    "# Dataset contains 50,000 rows \n",
    "df = pd.read_csv(\"/Users/gauravlohkna/Downloads/IMDB Dataset.csv\")\n",
    "df\n"
   ]
  },
  {
   "cell_type": "code",
   "execution_count": 3,
   "id": "b8d288ef",
   "metadata": {},
   "outputs": [
    {
     "data": {
      "text/html": [
       "<div>\n",
       "<style scoped>\n",
       "    .dataframe tbody tr th:only-of-type {\n",
       "        vertical-align: middle;\n",
       "    }\n",
       "\n",
       "    .dataframe tbody tr th {\n",
       "        vertical-align: top;\n",
       "    }\n",
       "\n",
       "    .dataframe thead th {\n",
       "        text-align: right;\n",
       "    }\n",
       "</style>\n",
       "<table border=\"1\" class=\"dataframe\">\n",
       "  <thead>\n",
       "    <tr style=\"text-align: right;\">\n",
       "      <th></th>\n",
       "      <th>review</th>\n",
       "      <th>sentiment</th>\n",
       "    </tr>\n",
       "  </thead>\n",
       "  <tbody>\n",
       "    <tr>\n",
       "      <th>0</th>\n",
       "      <td>One of the other reviewers has mentioned that ...</td>\n",
       "      <td>1</td>\n",
       "    </tr>\n",
       "    <tr>\n",
       "      <th>1</th>\n",
       "      <td>A wonderful little production. &lt;br /&gt;&lt;br /&gt;The...</td>\n",
       "      <td>1</td>\n",
       "    </tr>\n",
       "    <tr>\n",
       "      <th>2</th>\n",
       "      <td>I thought this was a wonderful way to spend ti...</td>\n",
       "      <td>1</td>\n",
       "    </tr>\n",
       "    <tr>\n",
       "      <th>3</th>\n",
       "      <td>Basically there's a family where a little boy ...</td>\n",
       "      <td>0</td>\n",
       "    </tr>\n",
       "    <tr>\n",
       "      <th>4</th>\n",
       "      <td>Petter Mattei's \"Love in the Time of Money\" is...</td>\n",
       "      <td>1</td>\n",
       "    </tr>\n",
       "    <tr>\n",
       "      <th>...</th>\n",
       "      <td>...</td>\n",
       "      <td>...</td>\n",
       "    </tr>\n",
       "    <tr>\n",
       "      <th>49995</th>\n",
       "      <td>I thought this movie did a down right good job...</td>\n",
       "      <td>1</td>\n",
       "    </tr>\n",
       "    <tr>\n",
       "      <th>49996</th>\n",
       "      <td>Bad plot, bad dialogue, bad acting, idiotic di...</td>\n",
       "      <td>0</td>\n",
       "    </tr>\n",
       "    <tr>\n",
       "      <th>49997</th>\n",
       "      <td>I am a Catholic taught in parochial elementary...</td>\n",
       "      <td>0</td>\n",
       "    </tr>\n",
       "    <tr>\n",
       "      <th>49998</th>\n",
       "      <td>I'm going to have to disagree with the previou...</td>\n",
       "      <td>0</td>\n",
       "    </tr>\n",
       "    <tr>\n",
       "      <th>49999</th>\n",
       "      <td>No one expects the Star Trek movies to be high...</td>\n",
       "      <td>0</td>\n",
       "    </tr>\n",
       "  </tbody>\n",
       "</table>\n",
       "<p>50000 rows × 2 columns</p>\n",
       "</div>"
      ],
      "text/plain": [
       "                                                  review  sentiment\n",
       "0      One of the other reviewers has mentioned that ...          1\n",
       "1      A wonderful little production. <br /><br />The...          1\n",
       "2      I thought this was a wonderful way to spend ti...          1\n",
       "3      Basically there's a family where a little boy ...          0\n",
       "4      Petter Mattei's \"Love in the Time of Money\" is...          1\n",
       "...                                                  ...        ...\n",
       "49995  I thought this movie did a down right good job...          1\n",
       "49996  Bad plot, bad dialogue, bad acting, idiotic di...          0\n",
       "49997  I am a Catholic taught in parochial elementary...          0\n",
       "49998  I'm going to have to disagree with the previou...          0\n",
       "49999  No one expects the Star Trek movies to be high...          0\n",
       "\n",
       "[50000 rows x 2 columns]"
      ]
     },
     "execution_count": 3,
     "metadata": {},
     "output_type": "execute_result"
    }
   ],
   "source": [
    "# Converting the sentiments to 0 for negative and 1 for positive\n",
    "df['sentiment'] = np.where(df['sentiment'] == \"positive\", 1, 0)\n",
    "df"
   ]
  },
  {
   "cell_type": "code",
   "execution_count": 4,
   "id": "daf85370",
   "metadata": {},
   "outputs": [
    {
     "data": {
      "image/png": "[encoded data removed]",
      "text/plain": [
       "<Figure size 864x360 with 1 Axes>"
      ]
     },
     "metadata": {
      "needs_background": "light"
     },
     "output_type": "display_data"
    }
   ],
   "source": [
    "# Distribution of the sentiments\n",
    "plt.figure(figsize=(12,5))\n",
    "df['sentiment'].value_counts().sort_index().plot(kind='bar',color = 'Green')\n",
    "plt.title('Distribution of sentiments(Rating)')\n",
    "plt.grid()\n",
    "plt.xlabel('Rating')\n",
    "plt.ylabel('Count')\n",
    "ax = plt.axes()\n"
   ]
  },
  {
   "cell_type": "markdown",
   "id": "48b802c9",
   "metadata": {},
   "source": [
    "# Splitting the data\n"
   ]
  },
  {
   "cell_type": "code",
   "execution_count": 5,
   "id": "5567d442",
   "metadata": {},
   "outputs": [
    {
     "name": "stdout",
     "output_type": "stream",
     "text": [
      "Load 37500 training examples and 12500 validation examples. \n",
      "\n",
      "Show a review in the training set : \n",
      " Wow, was this version of THE RACKETEER tough to watch! While none of the other reviews have mentioned this, the public domain version I watched was seriously flawed. The sound track was off by about 10 seconds--meaning the dialog and action never came close to matching. So, you'd hear something occur well before you saw it--a very confusing proposition! The worst is where you hear a gun shot and only later doe the guy get hit and slump to his death in a taxi.<br /><br />While this seriously marred the film, it also made concentrating on the dialog easier--and showed the serious shortcomings of it as well. The dialog was simply awful--often delivered with almost no inflection or feeling. As one review said, it was like watching a high school play. Part of this is understandable, as sound was a new medium, but this film's dialog was bad even compared to other 1929 films--really bad. And, like many of these early sound films, the film was just too talky--with sappy and overly melodramatic language and just not much action. And you'd THINK with a title like \"The Racketeer\" that there would be some action!! However, it's really a sappy romance--with very little action.<br /><br />The film finds Carol Lombard straddled with an alcoholic musician. She herself ends up stealing to try to take care of him--and the crook, Robert Armstrong, comes to her assistance. When Armstrong catches her cheating at cards, he covers for her and then helps the drunk brother to get on his feet--and naturally he falls for her in the process. The problem is that once the drunk sobers up, he, too, wants Lombard and she needs to choose between them. Wow...a recovering drunk or a mobster...talk about a couple great prospects! Overall, it's a bit hard to rate considering the lousy print I saw. However, even if you ignore this, the film has a lot of problems due to its poor use of dialog and excessively talky nature. And...it was sappy too boot.\n"
     ]
    },
    {
     "data": {
      "text/plain": [
       "(39758    This is a story of two dogs and a cat looking ...\n",
       " 18457    A paranoid scientist creates a wolfman by tran...\n",
       " 33239    Class Reunion is a very underated comedy gem. ...\n",
       " 35006    This film IS brilliant...... without a doubt. ...\n",
       " 30982    La Chute de la Maison Usher, or The Fall of th...\n",
       "                                ...                        \n",
       " 21243    I did not set very high expectations for this ...\n",
       " 45891    THE BLOB is a great horror movie, not merely b...\n",
       " 42613    After too many years of waiting, Anne Rivers S...\n",
       " 43567    I am a massive fan of the LoG. I thought the f...\n",
       " 2732     AG was an excellent presentation of drama, sus...\n",
       " Name: review, Length: 37500, dtype: object,\n",
       " 39758    1\n",
       " 18457    0\n",
       " 33239    1\n",
       " 35006    1\n",
       " 30982    0\n",
       "         ..\n",
       " 21243    1\n",
       " 45891    1\n",
       " 42613    1\n",
       " 43567    0\n",
       " 2732     1\n",
       " Name: sentiment, Length: 37500, dtype: int64)"
      ]
     },
     "execution_count": 5,
     "metadata": {},
     "output_type": "execute_result"
    }
   ],
   "source": [
    "from sklearn.model_selection import train_test_split\n",
    "X_train, X_test, y_train, y_test = train_test_split(df['review'], df['sentiment'], \\\n",
    "                                                    test_size=0.25, random_state=0)\n",
    "\n",
    "print('Load %d training examples and %d validation examples. \\n' %(X_train.shape[0],X_test.shape[0]))\n",
    "print('Show a review in the training set : \\n', X_train.iloc[10])\n",
    "X_train,y_train"
   ]
  },
  {
   "cell_type": "markdown",
   "id": "14c64329",
   "metadata": {},
   "source": [
    "# Data Cleaning"
   ]
  },
  {
   "cell_type": "code",
   "execution_count": 6,
   "id": "0399412e",
   "metadata": {},
   "outputs": [],
   "source": [
    "def cleanData(raw_text, remove_stopwords=False, stemming=False, split_text=False, \\\n",
    "             ):\n",
    "    '''\n",
    "    Convert a raw review to a cleaned review\n",
    "    '''\n",
    "    text = BeautifulSoup(raw_text, 'html.parser').get_text()\n",
    "    letters_only = re.sub(\"[^a-zA-Z]\", \" \", text)\n",
    "    words = letters_only.lower().split() \n",
    "    \n",
    "    if remove_stopwords:\n",
    "        stops = set(stopwords.words(\"english\"))\n",
    "        words = [w for w in words if not w in stops]\n",
    "        \n",
    "    if stemming==True:\n",
    "\n",
    "        stemmer = SnowballStemmer('english') \n",
    "        words = [stemmer.stem(w) for w in words]\n",
    "        \n",
    "    if split_text==True:\n",
    "        return (words)\n",
    "    \n",
    "    return( \" \".join(words))"
   ]
  },
  {
   "cell_type": "code",
   "execution_count": 7,
   "id": "bf902283",
   "metadata": {},
   "outputs": [
    {
     "name": "stdout",
     "output_type": "stream",
     "text": [
      "A cleaned review in the training set : \n",
      "\n",
      " wow was this version of the racketeer tough to watch while none of the other reviews have mentioned this the public domain version i watched was seriously flawed the sound track was off by about seconds meaning the dialog and action never came close to matching so you d hear something occur well before you saw it a very confusing proposition the worst is where you hear a gun shot and only later doe the guy get hit and slump to his death in a taxi while this seriously marred the film it also made concentrating on the dialog easier and showed the serious shortcomings of it as well the dialog was simply awful often delivered with almost no inflection or feeling as one review said it was like watching a high school play part of this is understandable as sound was a new medium but this film s dialog was bad even compared to other films really bad and like many of these early sound films the film was just too talky with sappy and overly melodramatic language and just not much action and you d think with a title like the racketeer that there would be some action however it s really a sappy romance with very little action the film finds carol lombard straddled with an alcoholic musician she herself ends up stealing to try to take care of him and the crook robert armstrong comes to her assistance when armstrong catches her cheating at cards he covers for her and then helps the drunk brother to get on his feet and naturally he falls for her in the process the problem is that once the drunk sobers up he too wants lombard and she needs to choose between them wow a recovering drunk or a mobster talk about a couple great prospects overall it s a bit hard to rate considering the lousy print i saw however even if you ignore this the film has a lot of problems due to its poor use of dialog and excessively talky nature and it was sappy too boot\n"
     ]
    }
   ],
   "source": [
    "import re\n",
    "import nltk\n",
    "from nltk.corpus import stopwords \n",
    "from nltk.stem.porter import PorterStemmer\n",
    "from nltk.stem import SnowballStemmer, WordNetLemmatizer\n",
    "from nltk import sent_tokenize, word_tokenize, pos_tag\n",
    "from bs4 import BeautifulSoup \n",
    "import logging\n",
    "#from wordcloud import WordCloud\n",
    "\n",
    "#from gensim.models import Word2Vec\n",
    "#from gensim.models.keyedvectors import KeyedVectors\n",
    "\n",
    "X_train_cleaned = []\n",
    "X_test_cleaned = []\n",
    "\n",
    "for d in X_train:\n",
    "    X_train_cleaned.append(cleanData(d))\n",
    "print('A cleaned review in the training set : \\n\\n',  X_train_cleaned[10])\n",
    "    \n",
    "for d in X_test:\n",
    "    X_test_cleaned.append(cleanData(d))"
   ]
  },
  {
   "cell_type": "markdown",
   "id": "22b7590c",
   "metadata": {},
   "source": [
    "# Training the model"
   ]
  },
  {
   "cell_type": "code",
   "execution_count": 8,
   "id": "0d1fd3ad",
   "metadata": {},
   "outputs": [
    {
     "name": "stdout",
     "output_type": "stream",
     "text": [
      "Number of features : 89902 \n",
      "\n",
      "A few feature names : \n",
      " ['aa', 'adultry', 'allmore', 'annoying', 'arrrggghhhh', 'avenger', 'bardo', 'belmonndo', 'blackjack', 'booms', 'broadened', 'cab', 'cart', 'charged', 'cinched', 'colada', 'confusions', 'cosmology', 'crunchy', 'daulton', 'demonio', 'diefenthal', 'distributor', 'dreamboat', 'ecoffey', 'enamored', 'estonian', 'extrodinaire', 'feminized', 'fleshes', 'franky', 'games', 'gilyard', 'grabys', 'gunfighting', 'harsh', 'hesitating', 'hooves', 'icp', 'indestructibility', 'internationalist', 'jancie', 'jumpsuits', 'kielbasa', 'kuo', 'leaguer', 'linton', 'luger', 'malozzie', 'mathers', 'mendes', 'minx', 'mopester', 'mutinies', 'neva', 'nueve', 'oooooozzzzzzed', 'overshadows', 'pastor', 'pervious', 'plantation', 'postpone', 'programed', 'qotsa', 'ravage', 'rehire', 'retentive', 'rodder', 'saccharin', 'scarllett', 'segregationist', 'shellacked', 'simplifying', 'smoothest', 'spaniard', 'stamper', 'streneously', 'superheroes', 'tadeu', 'tenko', 'thyroid', 'towelheads', 'trumpeted', 'uncomfortable', 'unreleasable', 'vassals', 'volante', 'weidemann', 'wiring', 'yasbeck']\n"
     ]
    },
    {
     "data": {
      "text/plain": [
       "MultinomialNB()"
      ]
     },
     "execution_count": 8,
     "metadata": {},
     "output_type": "execute_result"
    }
   ],
   "source": [
    "from sklearn.feature_extraction.text import CountVectorizer,TfidfVectorizer\n",
    "from sklearn.naive_bayes import BernoulliNB, MultinomialNB\n",
    "countVect = CountVectorizer() \n",
    "X_train_countVect = countVect.fit_transform(X_train_cleaned)\n",
    "print(\"Number of features : %d \\n\" %len(countVect.get_feature_names())) #6378 \n",
    "print(\"A few feature names : \\n\", countVect.get_feature_names()[::1000])\n",
    "\n",
    "\n",
    "# Train MultinomialNB classifier\n",
    "mnb = MultinomialNB()\n",
    "mnb.fit(X_train_countVect, y_train)"
   ]
  },
  {
   "cell_type": "code",
   "execution_count": 16,
   "id": "974fb29e",
   "metadata": {},
   "outputs": [],
   "source": [
    "\n",
    "\n",
    "# create an iterator object with write permission - model.pkl\n",
    "with open('Model_sentiment_countVect', 'wb') as files:\n",
    "    pickle.dump(countVect, files)"
   ]
  },
  {
   "cell_type": "code",
   "execution_count": 17,
   "id": "18e65447",
   "metadata": {},
   "outputs": [],
   "source": [
    "from sklearn import metrics\n",
    "from sklearn.metrics import accuracy_score,roc_auc_score\n",
    "def modelEvaluation(predictions):\n",
    "    '''\n",
    "    Print model evaluation to predicted result \n",
    "    '''\n",
    "    print (\"\\nAccuracy on validation set: {:.4f}\".format(accuracy_score(y_test, predictions)))\n",
    "    print(\"\\nConfusion Matrix : \\n\", metrics.confusion_matrix(y_test, predictions))"
   ]
  },
  {
   "cell_type": "code",
   "execution_count": 18,
   "id": "4fb13d22",
   "metadata": {},
   "outputs": [
    {
     "name": "stdout",
     "output_type": "stream",
     "text": [
      "\n",
      "Accuracy on validation set: 0.8453\n",
      "\n",
      "Confusion Matrix : \n",
      " [[5519  772]\n",
      " [1162 5047]]\n"
     ]
    }
   ],
   "source": [
    "predictions = mnb.predict(countVect.transform(X_test_cleaned))\n",
    "modelEvaluation(predictions)"
   ]
  },
  {
   "cell_type": "markdown",
   "id": "e600ac31",
   "metadata": {},
   "source": [
    "# Pickling the model to use it with flask"
   ]
  },
  {
   "cell_type": "code",
   "execution_count": 19,
   "id": "00f2171f",
   "metadata": {},
   "outputs": [],
   "source": [
    "# create an iterator object with write permission - model.pkl\n",
    "with open('Model_sentiment_mnb', 'wb') as files:\n",
    "    pickle.dump(mnb, files)"
   ]
  },
  {
   "cell_type": "code",
   "execution_count": null,
   "id": "6e576e07",
   "metadata": {},
   "outputs": [],
   "source": []
  }
 ],
 "metadata": {
  "kernelspec": {
   "display_name": "Python 3",
   "language": "python",
   "name": "python3"
  },
  "language_info": {
   "codemirror_mode": {
    "name": "ipython",
    "version": 3
   },
   "file_extension": ".py",
   "mimetype": "text/x-python",
   "name": "python",
   "nbconvert_exporter": "python",
   "pygments_lexer": "ipython3",
   "version": "3.8.8"
  }
 },
 "nbformat": 4,
 "nbformat_minor": 5
}
